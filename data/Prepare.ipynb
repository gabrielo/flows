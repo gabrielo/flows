{
 "cells": [
  {
   "cell_type": "code",
   "execution_count": null,
   "metadata": {
    "collapsed": true
   },
   "outputs": [],
   "source": [
    "import csv, json, math, os\n",
    "from osgeo import ogr\n",
    "from random import uniform\n",
    "from shapely.geometry import shape, Point, Polygon\n",
    "\n",
    "def LonLatToPixelXY(lonlat):\n",
    "    (lon, lat) = lonlat\n",
    "    x = (lon + 180.0) * 256.0 / 360.0\n",
    "    y = 128.0 - math.log(math.tan((lat + 90.0) * math.pi / 360.0)) * 128.0 / math.pi\n",
    "    return [x, y]\n",
    "\n",
    "def RandomPointFromBbox(bbox):\n",
    "    l,b,r,t = bbox\n",
    "    point = Point(uniform(l,r),uniform(t,b))\n",
    "    return point.__geo_interface__['coordinates']\n",
    "\n",
    "def GetPointsFromData(data, minPointCount = 100.0):\n",
    "    points = []\n",
    "    pointCount = max(float(minPointCount), len(data[\"features\"]))\n",
    "    geom = data[\"features\"][0][\"geometry\"]\n",
    "    polygon = shape(geom)\n",
    "    bbox = polygon.bounds\n",
    "    for i in range(minPointCount):\n",
    "        points.append(RandomPointFromBbox(bbox))\n",
    "    return points\n"
   ]
  },
  {
   "cell_type": "code",
   "execution_count": null,
   "metadata": {},
   "outputs": [],
   "source": [
    "with open(\"list.json\") as f:\n",
    "    countryList = json.load(f)\n",
    "    \n",
    "with open(\"centroids.geojson\") as f:\n",
    "    centroids = json.load(f)"
   ]
  },
  {
   "cell_type": "code",
   "execution_count": null,
   "metadata": {},
   "outputs": [],
   "source": [
    "for country in countryList:\n",
    "    match = False\n",
    "    for feature in centroids[\"features\"]:\n",
    "        for name in feature[\"properties\"][\"names\"]:\n",
    "            if country['name_en'] == name:\n",
    "                match = True\n",
    "                break\n",
    "        if match:\n",
    "            break\n",
    "    if not match:\n",
    "        print \"Missing %s\" % country[\"name_en\"]"
   ]
  },
  {
   "cell_type": "code",
   "execution_count": null,
   "metadata": {},
   "outputs": [],
   "source": [
    "unhcrData = []\n",
    "with open(\"unhcr_popstats_export_time_series_all_data.csv\") as f:\n",
    "    reader = csv.DictReader(f)\n",
    "    for row in reader:\n",
    "        unhcrData.append(row)"
   ]
  },
  {
   "cell_type": "code",
   "execution_count": null,
   "metadata": {},
   "outputs": [],
   "source": [
    "refugees = {}\n",
    "for row in unhcrData:\n",
    "    year = row['Year']\n",
    "    value = row['Value']\n",
    "    org = row['Origin']\n",
    "    dst = row['Country / territory of asylum/residence']\n",
    "    if int(year) >= 1983:\n",
    "        if row['Population type'] == 'Refugees (incl. refugee-like situations)':\n",
    "            if org != 'Various/Unknown' and\\\n",
    "                dst != 'Various/Unknown' and\\\n",
    "                org != 'Stateless' and\\\n",
    "                dst != \"Stateless\":\n",
    "                if org not in refugees:\n",
    "                    refugees[org] = {dst: {'max': 0}}\n",
    "                if dst not in refugees[org]:\n",
    "                    refugees[org][dst] = {'max': 0}\n",
    "                refugees[org][dst][year] = value if value != \"*\" else \"0\"\n"
   ]
  },
  {
   "cell_type": "code",
   "execution_count": null,
   "metadata": {},
   "outputs": [],
   "source": [
    "countryNames = []\n",
    "for org in refugees:\n",
    "    countryNames.append(org)\n",
    "    for dst in refugees[org]:\n",
    "        countryNames.append(dst)\n",
    "countryNames = list(set(countryNames))"
   ]
  },
  {
   "cell_type": "code",
   "execution_count": null,
   "metadata": {},
   "outputs": [],
   "source": [
    "missing = []\n",
    "countryName2Iso = {}\n",
    "for country in countryNames:\n",
    "    match = False\n",
    "    for feature in centroids[\"features\"]:\n",
    "        for name in feature[\"properties\"][\"names\"]:\n",
    "            if unicode(country,\"utf8\").encode('ascii','ignore') == name:\n",
    "                countryName2Iso[country] = feature[\"properties\"][\"iso_alpha-3\"]\n",
    "                match = True\n",
    "                break\n",
    "        if match:\n",
    "            break\n",
    "    if not match:\n",
    "        print \"Missing %s\" % country\n",
    "        missing.append(country)"
   ]
  },
  {
   "cell_type": "code",
   "execution_count": null,
   "metadata": {},
   "outputs": [],
   "source": [
    "for org in refugees:\n",
    "    for dst in refugees[org]:\n",
    "        values = refugees[org][dst]\n",
    "        for year in range(1984,2017):\n",
    "            prevValue = int(values[str(year-1)]) if str(year-1) in values else 0\n",
    "            currValue = int(values[str(year)]) if str(year) in values else 0\n",
    "            if currValue - prevValue > values['max']:\n",
    "                values['max'] = currValue - prevValue\n",
    "            "
   ]
  },
  {
   "cell_type": "code",
   "execution_count": 155,
   "metadata": {},
   "outputs": [
    {
     "name": "stdout",
     "output_type": "stream",
     "text": [
      "Missing gadm28_levels/XTX/XTX_adm0.geojson\n"
     ]
    }
   ],
   "source": [
    "randomPoints = {}\n",
    "for name in countryName2Iso:\n",
    "    iso = countryName2Iso[name]\n",
    "    filename = \"gadm28_levels/%s/%s_adm0.geojson\" % (iso,iso)\n",
    "    if os.path.exists(filename):\n",
    "        with open(filename) as f:\n",
    "            geojson = json.load(f)\n",
    "            points = GetPointsFromData(geojson, 1000)            \n",
    "            randomPoints[iso] = points\n",
    "    else:\n",
    "        print \"Missing %s\" % filename\n",
    "        l,b,r,t = (66, 23, 108, 42)\n",
    "        points = []\n",
    "        for i in range(1000):\n",
    "            point = Point(uniform(l,r),uniform(t,b))\n",
    "            points.append(point.__geo_interface__['coordinates'])\n",
    "        randomPoints[iso] = points"
   ]
  },
  {
   "cell_type": "code",
   "execution_count": 35,
   "metadata": {
    "collapsed": true
   },
   "outputs": [],
   "source": [
    "iso2Centroids = {}\n",
    "for name in countryName2Iso:\n",
    "    iso = countryName2Iso[name]\n",
    "    match = False\n",
    "    for feature in centroids[\"features\"]:\n",
    "        if feature[\"properties\"][\"iso_alpha-3\"] == iso:\n",
    "            match = True\n",
    "            break\n",
    "    iso2Centroids[iso] = feature[\"geometry\"][\"coordinates\"]\n"
   ]
  },
  {
   "cell_type": "code",
   "execution_count": 38,
   "metadata": {},
   "outputs": [
    {
     "data": {
      "text/plain": [
       "[174.93333333333334, 103.11672116189807]"
      ]
     },
     "execution_count": 38,
     "metadata": {},
     "output_type": "execute_result"
    }
   ],
   "source": [
    "LonLatToPixelXY(iso2Centroids['AFG'])"
   ]
  },
  {
   "cell_type": "code",
   "execution_count": 52,
   "metadata": {},
   "outputs": [
    {
     "data": {
      "text/plain": [
       "[175.13931132111608, 103.79717529928455]"
      ]
     },
     "execution_count": 52,
     "metadata": {},
     "output_type": "execute_result"
    }
   ],
   "source": [
    "LonLatToPixelXY(randomPoints['AFG'][0])"
   ]
  },
  {
   "cell_type": "code",
   "execution_count": 171,
   "metadata": {},
   "outputs": [],
   "source": [
    "def xy2rgba(coords):\n",
    "    x,y = coords\n",
    "    _max = 1.0;\n",
    "    _min = 0.0\n",
    "    r = math.floor(255.0 * (x - _min) / (_max - _min));\n",
    "    g = math.floor(255.0 * (y - _min) / (_max - _min));\n",
    "    b = 0.0;\n",
    "    a = 255.0;\n",
    "    return [r,g,b,a]\n",
    "\n",
    "def rgba2xy(rgba):\n",
    "    return [rgba[0] / 255.0 + rgba[2], (rgba[1] + rgba[3]/255.0)/ 255.0]"
   ]
  },
  {
   "cell_type": "code",
   "execution_count": 187,
   "metadata": {},
   "outputs": [
    {
     "name": "stdout",
     "output_type": "stream",
     "text": [
      "LIE 1\n",
      "EGY 80\n",
      "BGD 20\n",
      "QAT 3\n",
      "BGR 23\n",
      "GHA 20\n",
      "CPV 9\n",
      "HND 24\n",
      "ROU 47\n",
      "JOR 19\n",
      "LBR 16\n",
      "VNM 72\n",
      "PRI 6\n",
      "SXM 1\n",
      "PRK 30\n",
      "TZA 79\n",
      "KHM 20\n",
      "NIC 20\n",
      "TTO 4\n",
      "PRY 50\n",
      "HKG 2\n",
      "LBN 9\n",
      "SVN 6\n",
      "BFA 30\n",
      "SVK 17\n",
      "HRV 25\n",
      "KNA 1\n",
      "JAM 4\n",
      "GIB 1\n",
      "DJI 6\n",
      "GIN 30\n",
      "URY 25\n",
      "VAT 1\n",
      "SYC 50\n",
      "NPL 28\n",
      "MAR 79\n",
      "YEM 59\n",
      "PHL 96\n",
      "GAB 25\n",
      "SYR 30\n",
      "MAC 1\n",
      "BRB 1\n",
      "COK 69\n",
      "TCA 4\n",
      "NIU 1\n",
      "DMA 2\n",
      "BEN 15\n",
      "NGA 70\n",
      "BEL 12\n",
      "DEU 67\n",
      "LKA 11\n",
      "MWI 21\n",
      "CRI 24\n",
      "CMR 54\n",
      "LSO 4\n",
      "UGA 24\n",
      "TKM 88\n",
      "SUR 16\n",
      "NLD 18\n",
      "COM 2\n",
      "BMU 2\n",
      "GEO 18\n",
      "MNE 6\n",
      "MHL 72\n",
      "MTQ 1\n",
      "BLZ 6\n",
      "BDI 6\n",
      "AFG 98\n",
      "NFK 1\n",
      "VGB 2\n",
      "BLR 56\n",
      "GRD 1\n",
      "GRC 55\n",
      "ZWE 41\n",
      "RWA 6\n",
      "TJK 34\n",
      "THA 76\n",
      "HTI 6\n",
      "PSE 4\n",
      "LCA 2\n",
      "VCT 1\n",
      "BTN 6\n",
      "MYS 89\n",
      "CZE 24\n",
      "ATG 2\n",
      "MUS 48\n",
      "DOM 12\n",
      "LUX 2\n",
      "ISR 10\n",
      "SMR 1\n",
      "VUT 24\n",
      "GNQ 24\n",
      "COG 47\n",
      "GLP 1\n",
      "GUF 12\n",
      "TLS 6\n",
      "BWA 56\n",
      "MDA 16\n",
      "MDG 66\n",
      "ECU 76\n",
      "SEN 25\n",
      "ESH 42\n",
      "MDV 14\n",
      "ASM 12\n",
      "SPM 4\n",
      "SRB 20\n",
      "AND 1\n",
      "LTU 24\n",
      "ZMB 74\n",
      "WLF 4\n",
      "SSD 63\n",
      "IRL 24\n",
      "GTM 16\n",
      "DNK 30\n",
      "AZE 20\n",
      "AUT 28\n",
      "PLW 12\n",
      "KEN 48\n",
      "LAO 43\n",
      "TUR 94\n",
      "ALB 8\n",
      "OMN 52\n",
      "TUV 12\n",
      "BRN 4\n",
      "TUN 28\n",
      "HUN 24\n",
      "CUW 2\n",
      "MKD 9\n",
      "WSM 4\n",
      "GNB 9\n",
      "SWZ 6\n",
      "TON 18\n",
      "CIV 30\n",
      "KOR 31\n",
      "AIA 2\n",
      "GUY 28\n",
      "CHE 12\n",
      "CYP 3\n",
      "BIH 12\n",
      "SGP 4\n",
      "SOM 87\n",
      "CAF 70\n",
      "POL 54\n",
      "KWT 4\n",
      "GMB 3\n",
      "ERI 34\n",
      "TGO 12\n",
      "CYM 4\n",
      "EST 24\n",
      "LVA 29\n",
      "IRQ 63\n",
      "SLV 6\n",
      "STP 6\n",
      "MLT 1\n",
      "ABW 2\n",
      "SLE 12\n",
      "PAN 12\n",
      "SLB 68\n",
      "MCO 1\n",
      "KGZ 44\n",
      "ARE 20\n",
      "BHS 41\n",
      "BHR 4\n",
      "ARM 12\n",
      "NRU 1\n",
      "CUB 31\n",
      "166\n"
     ]
    }
   ],
   "source": [
    "# Uniqueness test\n",
    "t = 0\n",
    "for keys in randomPoints:\n",
    "    test = []\n",
    "    for point in randomPoints[keys]:\n",
    "        a = LonLatToPixelXY(point)\n",
    "        test.append(xy2rgba((a[0]/255.,a[1]/255.)))\n",
    "    \n",
    "    unique_data = [list(x) for x in set(tuple(x) for x in test)]\n",
    "    if len(unique_data) < 100:\n",
    "        print keys, len(unique_data)\n",
    "        t += 1\n",
    "print t"
   ]
  },
  {
   "cell_type": "code",
   "execution_count": 161,
   "metadata": {
    "collapsed": true
   },
   "outputs": [],
   "source": [
    "# Encode web mercator floats into rgba\n",
    "def frac(x):\n",
    "    return x - math.floor(x)\n",
    "\n",
    "def float2rgba(value):\n",
    "    x,y = math.floor(value), frac(value)\n",
    "    x_max = 255.0\n",
    "    x_min = 0.0\n",
    "    y_min = 0.0\n",
    "    y_max = 1.0\n",
    "    r = math.floor(255.0 * (x - x_min) / (x_max - x_min));\n",
    "    g = math.floor(255.0 * (y - y_min) / (y_max - y_min));\n",
    "    b = 0.0;\n",
    "    a = 255.0;\n",
    "    return [r,g,b,a]\n",
    "\n",
    "def rgba2float(rgba):\n",
    "    value = [rgba[0] / 255.0 + rgba[2], (rgba[1] + rgba[3]/255.0)/ 255.0]\n",
    "    return value[0] + value[1]\n"
   ]
  },
  {
   "cell_type": "code",
   "execution_count": 178,
   "metadata": {},
   "outputs": [
    {
     "name": "stdout",
     "output_type": "stream",
     "text": [
      "LIE 31\n",
      "SXM 27\n",
      "KNA 60\n",
      "GIB 6\n",
      "VAT 4\n",
      "MAC 14\n",
      "BRB 43\n",
      "NIU 33\n",
      "DMA 45\n",
      "BMU 45\n",
      "MTQ 77\n",
      "NFK 16\n",
      "GRD 78\n",
      "LCA 39\n",
      "VCT 63\n",
      "SMR 22\n",
      "SPM 52\n",
      "AND 68\n",
      "CUW 96\n",
      "AIA 92\n",
      "SGP 88\n",
      "MLT 73\n",
      "ABW 37\n",
      "MCO 7\n",
      "NRU 10\n",
      "25\n"
     ]
    }
   ],
   "source": [
    "t = 0\n",
    "for keys in randomPoints:\n",
    "    test2 = []\n",
    "    for point in randomPoints[keys]:\n",
    "        a = LonLatToPixelXY(point)\n",
    "        test2.append(float2rgba(a[0]))    \n",
    "    unique_data = [list(x) for x in set(tuple(x) for x in test2)]\n",
    "    if len(unique_data) < 100:\n",
    "        print keys, len(unique_data)\n",
    "        t +=1\n",
    "print t"
   ]
  },
  {
   "cell_type": "code",
   "execution_count": null,
   "metadata": {
    "collapsed": true
   },
   "outputs": [],
   "source": []
  }
 ],
 "metadata": {
  "kernelspec": {
   "display_name": "Python 2",
   "language": "python",
   "name": "python2"
  },
  "language_info": {
   "codemirror_mode": {
    "name": "ipython",
    "version": 2
   },
   "file_extension": ".py",
   "mimetype": "text/x-python",
   "name": "python",
   "nbconvert_exporter": "python",
   "pygments_lexer": "ipython2",
   "version": "2.7.13"
  }
 },
 "nbformat": 4,
 "nbformat_minor": 2
}
