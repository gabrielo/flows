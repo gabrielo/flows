{
 "cells": [
  {
   "cell_type": "code",
   "execution_count": null,
   "metadata": {
    "collapsed": true
   },
   "outputs": [],
   "source": [
    "import csv, json, math, os\n",
    "from osgeo import ogr\n",
    "from random import uniform\n",
    "from shapely.geometry import shape, Point, Polygon\n",
    "\n",
    "def LonLatToPixelXY(lonlat):\n",
    "    (lon, lat) = lonlat\n",
    "    x = (lon + 180.0) * 256.0 / 360.0\n",
    "    y = 128.0 - math.log(math.tan((lat + 90.0) * math.pi / 360.0)) * 128.0 / math.pi\n",
    "    return [x, y]\n",
    "\n",
    "def RandomPointFromBbox(bbox):\n",
    "    l,b,r,t = bbox\n",
    "    point = Point(uniform(l,r),uniform(t,b))\n",
    "    return point.__geo_interface__['coordinates']\n",
    "\n",
    "def GetPointsFromData(data, minPointCount = 100.0):\n",
    "    points = []\n",
    "    pointCount = max(float(minPointCount), len(data[\"features\"]))\n",
    "    geom = data[\"features\"][0][\"geometry\"]\n",
    "    polygon = shape(geom)\n",
    "    bbox = polygon.bounds\n",
    "    for i in range(minPointCount):\n",
    "        points.append(RandomPointFromBbox(bbox))\n",
    "    return points\n"
   ]
  },
  {
   "cell_type": "code",
   "execution_count": null,
   "metadata": {},
   "outputs": [],
   "source": [
    "with open(\"list.json\") as f:\n",
    "    countryList = json.load(f)\n",
    "    \n",
    "with open(\"centroids.geojson\") as f:\n",
    "    centroids = json.load(f)"
   ]
  },
  {
   "cell_type": "code",
   "execution_count": null,
   "metadata": {},
   "outputs": [],
   "source": [
    "for country in countryList:\n",
    "    match = False\n",
    "    for feature in centroids[\"features\"]:\n",
    "        for name in feature[\"properties\"][\"names\"]:\n",
    "            if country['name_en'] == name:\n",
    "                match = True\n",
    "                break\n",
    "        if match:\n",
    "            break\n",
    "    if not match:\n",
    "        print \"Missing %s\" % country[\"name_en\"]"
   ]
  },
  {
   "cell_type": "code",
   "execution_count": null,
   "metadata": {},
   "outputs": [],
   "source": [
    "unhcrData = []\n",
    "with open(\"unhcr_popstats_export_time_series_all_data.csv\") as f:\n",
    "    reader = csv.DictReader(f)\n",
    "    for row in reader:\n",
    "        unhcrData.append(row)"
   ]
  },
  {
   "cell_type": "code",
   "execution_count": null,
   "metadata": {},
   "outputs": [],
   "source": [
    "refugees = {}\n",
    "for row in unhcrData:\n",
    "    year = row['Year']\n",
    "    value = row['Value']\n",
    "    org = row['Origin']\n",
    "    dst = row['Country / territory of asylum/residence']\n",
    "    if int(year) >= 1983:\n",
    "        if row['Population type'] == 'Refugees (incl. refugee-like situations)':\n",
    "            if org != 'Various/Unknown' and\\\n",
    "                dst != 'Various/Unknown' and\\\n",
    "                org != 'Stateless' and\\\n",
    "                dst != \"Stateless\":\n",
    "                if org not in refugees:\n",
    "                    refugees[org] = {dst: {'max': 0}}\n",
    "                if dst not in refugees[org]:\n",
    "                    refugees[org][dst] = {'max': 0}\n",
    "                refugees[org][dst][year] = value if value != \"*\" else \"0\"\n"
   ]
  },
  {
   "cell_type": "code",
   "execution_count": null,
   "metadata": {},
   "outputs": [],
   "source": [
    "countryNames = []\n",
    "for org in refugees:\n",
    "    countryNames.append(org)\n",
    "    for dst in refugees[org]:\n",
    "        countryNames.append(dst)\n",
    "countryNames = list(set(countryNames))"
   ]
  },
  {
   "cell_type": "code",
   "execution_count": null,
   "metadata": {},
   "outputs": [],
   "source": [
    "missing = []\n",
    "countryName2Iso = {}\n",
    "for country in countryNames:\n",
    "    match = False\n",
    "    for feature in centroids[\"features\"]:\n",
    "        for name in feature[\"properties\"][\"names\"]:\n",
    "            if unicode(country,\"utf8\").encode('ascii','ignore') == name:\n",
    "                countryName2Iso[country] = feature[\"properties\"][\"iso_alpha-3\"]\n",
    "                match = True\n",
    "                break\n",
    "        if match:\n",
    "            break\n",
    "    if not match:\n",
    "        print \"Missing %s\" % country\n",
    "        missing.append(country)"
   ]
  },
  {
   "cell_type": "code",
   "execution_count": null,
   "metadata": {},
   "outputs": [],
   "source": [
    "for org in refugees:\n",
    "    for dst in refugees[org]:\n",
    "        values = refugees[org][dst]\n",
    "        for year in range(1984,2017):\n",
    "            prevValue = int(values[str(year-1)]) if str(year-1) in values else 0\n",
    "            currValue = int(values[str(year)]) if str(year) in values else 0\n",
    "            if currValue - prevValue > values['max']:\n",
    "                values['max'] = currValue - prevValue\n",
    "            "
   ]
  },
  {
   "cell_type": "code",
   "execution_count": null,
   "metadata": {},
   "outputs": [],
   "source": [
    "randomPoints = {}\n",
    "for name in countryName2Iso:\n",
    "    iso = countryName2Iso[name]\n",
    "    filename = \"gadm28_levels/%s/%s_adm0.geojson\" % (iso,iso)\n",
    "    if os.path.exists(filename):\n",
    "        with open(filename) as f:\n",
    "            geojson = json.load(f)\n",
    "            points = GetPointsFromData(geojson, len(countryNames) - 1)            \n",
    "            randomPoints[iso] = points\n",
    "    else:\n",
    "        print \"Missing %s\" % filename\n",
    "        l,b,r,t = (66, 23, 108, 42)\n",
    "        points = []\n",
    "        for i in range(len(countryNames)):\n",
    "            point = Point(uniform(l,r),uniform(t,b))\n",
    "            points.append(point.__geo_interface__['coordinates'])\n",
    "        randomPoints[iso] = points"
   ]
  },
  {
   "cell_type": "code",
   "execution_count": null,
   "metadata": {
    "collapsed": true
   },
   "outputs": [],
   "source": []
  }
 ],
 "metadata": {
  "kernelspec": {
   "display_name": "Python 2",
   "language": "python",
   "name": "python2"
  },
  "language_info": {
   "codemirror_mode": {
    "name": "ipython",
    "version": 2
   },
   "file_extension": ".py",
   "mimetype": "text/x-python",
   "name": "python",
   "nbconvert_exporter": "python",
   "pygments_lexer": "ipython2",
   "version": "2.7.13"
  }
 },
 "nbformat": 4,
 "nbformat_minor": 2
}
